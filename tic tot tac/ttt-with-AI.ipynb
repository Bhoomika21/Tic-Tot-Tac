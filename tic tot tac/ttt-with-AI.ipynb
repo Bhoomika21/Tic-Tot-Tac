{
 "cells": [
  {
   "cell_type": "code",
   "execution_count": 5,
   "metadata": {},
   "outputs": [],
   "source": [
    "import pandas as pd\n",
    "import random as rnd\n",
    "from IPython.display import clear_output as clear\n",
    "import time\n",
    "\n",
    "dataset = pd.read_csv(\"ttt_dataset.csv\")\n",
    "\n",
    "# print(dataset.head(5))\n",
    "dataset = dataset.replace('?', 100)\n",
    "X_train = dataset.iloc[:,0:7]\n",
    "y_train = dataset.iloc[:,-1]\n",
    "# print(dataset.dtypes)\n"
   ]
  },
  {
   "cell_type": "code",
   "execution_count": 6,
   "metadata": {},
   "outputs": [
    {
     "name": "stdout",
     "output_type": "stream",
     "text": [
      "[0, 0, 0, 0, 0, 0, 0, 0, 0]\n"
     ]
    }
   ],
   "source": [
    "#3*3 matrix\n",
    "matrix = [[0,0,0],\n",
    "         [0,0,0],\n",
    "         [0,0,0]]\n",
    "matrix\n",
    "x = [0,0,0,0,0,0,0,0,0]\n",
    "count = 0\n",
    "for j in range(len(matrix)):\n",
    "    for m in range(len(matrix)):\n",
    "        x[count] = matrix[j][m]\n",
    "        count += 1\n",
    "print(x[:])"
   ]
  },
  {
   "cell_type": "code",
   "execution_count": 7,
   "metadata": {},
   "outputs": [],
   "source": [
    "def reset_game():\n",
    "    matrix = [[0,0,0],\n",
    "         [0,0,0],\n",
    "         [0,0,0]]\n",
    "    x = [0,0,0,0,0,0,0,0,0]\n",
    "    for i in range(len(matrix)):\n",
    "        print(\"| \",end='')\n",
    "        for j in range(len(matrix)):\n",
    "            print(\" _  | \",end='')\n",
    "        print(\"\\n\")\n",
    "    return(matrix,x)\n",
    "        \n",
    "def print_matrix(position,j):\n",
    "    if(j == 1):\n",
    "        x[position] = \"X\"\n",
    "    else:\n",
    "        x[position] = \"O\"\n",
    "        \n",
    "    count = 0\n",
    "    for i in range(len(matrix)):\n",
    "        print(\"|\",end =\"\")\n",
    "        for j in range(len(matrix)):\n",
    "            matrix[i][j] = x[count]\n",
    "            print(matrix[i][j],end=\" |\")\n",
    "            \n",
    "            count += 1\n",
    "        print(\"\\n\")\n",
    "    return matrix"
   ]
  },
  {
   "cell_type": "code",
   "execution_count": 8,
   "metadata": {},
   "outputs": [],
   "source": [
    "def win_player(matrix,a):    \n",
    "#     diagonal win\n",
    "    countx = 0\n",
    "    counto = 0\n",
    "    for i in range(len(matrix)):        \n",
    "        for j in range(len(matrix)):\n",
    "            if(i == j and matrix[i][j] == \"X\"):\n",
    "                countx += 1\n",
    "            elif(i==j and matrix[i][j] == \"O\"):\n",
    "                counto += 1 \n",
    "    if  (countx == 3):\n",
    "        print(\"And the winner is Player1 dia\")\n",
    "        return 1\n",
    "    elif(counto == 3):\n",
    "        print(\"And the winner is Player2 dia\")\n",
    "        return 2\n",
    "#     inverse diagonal\n",
    "    countx2 = 0\n",
    "    counto2 = 0\n",
    "    for i in range(len(matrix)):        \n",
    "        for j in range(len(matrix)):            \n",
    "            if((i + j) == (len(matrix) - 1) and matrix[i][j] == \"X\"):\n",
    "                countx2 += 1\n",
    "                \n",
    "            elif((i + j) == (len(matrix) - 1) and matrix[i][j] == \"O\"):\n",
    "                counto2 += 1                \n",
    "    if  (countx2 == 3):\n",
    "#         print(countx2, counto2)\n",
    "        print(\"And the winner is Player1 dia\")\n",
    "        return 1\n",
    "    elif(counto2 == 3):\n",
    "        print(\"And the winner is Player2 dia\")\n",
    "        return 2\n",
    "    \n",
    "#     horizontal win\n",
    "    for i in range(len(matrix)): \n",
    "        if(\"O\" not in matrix[i] and 0 not in matrix[i]):\n",
    "            print(\"And the winner is Player1 H\")\n",
    "            return 1\n",
    "        elif(\"X\" not in matrix[i] and 0 not in matrix[i]):\n",
    "            print(\"And the winner is Player2 H\")\n",
    "            return 2\n",
    "    \n",
    "#     vertical win\n",
    "    temp_matrix = []\n",
    "    for i in range(len(matrix)): \n",
    "        for j in range(len(matrix)):\n",
    "            temp_matrix.append(matrix[j][i])\n",
    "        if(\"O\" not in temp_matrix and 0 not in temp_matrix):\n",
    "            print(\"And the winner is Player1 V\")\n",
    "            return 1\n",
    "        elif(\"X\" not in temp_matrix and 0 not in temp_matrix):\n",
    "            print(\"And the winner is Player2 V\")\n",
    "            return 2\n",
    "        temp_matrix = []\n",
    "    return 0"
   ]
  },
  {
   "cell_type": "code",
   "execution_count": 9,
   "metadata": {},
   "outputs": [
    {
     "name": "stdout",
     "output_type": "stream",
     "text": [
      "|X |X |O |\n",
      "\n",
      "|O |X |0 |\n",
      "\n",
      "|0 |X |O |\n",
      "\n",
      "And the winner is Player1 V\n",
      "Winner is 1\n",
      "abc\n"
     ]
    }
   ],
   "source": [
    "matrix,x = reset_game()\n",
    "(a,b) = (1,2)\n",
    "final_win = 0\n",
    "while(0 in x):    \n",
    "    if(a == 1):\n",
    "        position = int(input(\"Please enter possition you want to play player{0}: \".format(a)))\n",
    "    else:\n",
    "        time.sleep(1)\n",
    "        position = rnd.randint(0,8)\n",
    "        print(\"Please enter possition you want to play player{0}: {1}\".format(a,position))\n",
    "    if(x[position] == \"X\" or x[position] == \"O\"):\n",
    "        print(\"dont you see?  Already filled this position\")\n",
    "        (a,b)\n",
    "    elif(position >= 0 and position < 9):\n",
    "        clear()\n",
    "        matrix_a = print_matrix(position,a)\n",
    "#             print(matrix_a)\n",
    "        final_win = win_player(matrix_a, a)\n",
    "        if(final_win == 1):\n",
    "            print(\"Winner is 1\")\n",
    "            break\n",
    "        elif(final_win == 2):\n",
    "            print(\"Winner is 2\")\n",
    "            break\n",
    "        (a,b) = (b,a)                  \n",
    "    else:\n",
    "        print(\"Enter position between 0 to 8\")\n",
    "        (a,b) = (a,b)\n",
    "    \n",
    "if(final_win == 0):\n",
    "    print(\"Match is tie!! No one wins this\")\n",
    "print(\"abc\")"
   ]
  },
  {
   "cell_type": "code",
   "execution_count": null,
   "metadata": {},
   "outputs": [],
   "source": []
  }
 ],
 "metadata": {
  "kernelspec": {
   "display_name": "Python 3",
   "language": "python",
   "name": "python3"
  },
  "language_info": {
   "codemirror_mode": {
    "name": "ipython",
    "version": 3
   },
   "file_extension": ".py",
   "mimetype": "text/x-python",
   "name": "python",
   "nbconvert_exporter": "python",
   "pygments_lexer": "ipython3",
   "version": "3.6.5"
  }
 },
 "nbformat": 4,
 "nbformat_minor": 2
}
