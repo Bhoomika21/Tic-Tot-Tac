{
 "cells": [
  {
   "cell_type": "code",
   "execution_count": 1,
   "metadata": {},
   "outputs": [],
   "source": [
    "import pandas as pd\n",
    "from IPython.display import clear_output as clear"
   ]
  },
  {
   "cell_type": "code",
   "execution_count": 20,
   "metadata": {},
   "outputs": [
    {
     "name": "stdout",
     "output_type": "stream",
     "text": [
      "   X_TL  X_TM  X_TR  X_ML  X_MM  X_MR  X_BL  X_BM  X_BR  Y_TL  Y_TM  Y_TR  \\\n",
      "0     1    -1     0     0     0     0     0     1     0     0     0     0   \n",
      "1     1     0     1     0     0     0     0    -1     0     0     1     0   \n",
      "2     0     0     0     0     0     1     0     0     0     0     0     1   \n",
      "3     0     1     1     0     0     0     0    -1     0     1     0     0   \n",
      "4     1     1    -1     0     0     0     0    -1     0     0     0     0   \n",
      "\n",
      "   Y_ML  Y_MM  Y_MR  Y_BL  Y_BM  Y_BR  \n",
      "0     0     0     0     1     0     1  \n",
      "1     1     1     1     1     0     1  \n",
      "2     1     1     0     0     0     1  \n",
      "3     0     0     0     0     0     0  \n",
      "4     1     0     1     1     0     1  \n"
     ]
    }
   ],
   "source": [
    "df = pd.read_excel(\"multi_label_move_predict.xlsx\", \"Sheet1\", sep=\";\")\n",
    "print(df.head())"
   ]
  },
  {
   "cell_type": "code",
   "execution_count": 3,
   "metadata": {},
   "outputs": [],
   "source": [
    "X = df.drop(['Y_TL' ,'Y_TM' ,'Y_TR' ,'Y_ML' ,'Y_MM' ,'Y_MR' ,'Y_BL' ,'Y_BM' ,'Y_BR'], axis=1)"
   ]
  },
  {
   "cell_type": "code",
   "execution_count": 4,
   "metadata": {},
   "outputs": [],
   "source": [
    "y = df[['Y_TL', 'Y_TM', 'Y_TR', 'Y_ML',  'Y_MM', 'Y_MR', 'Y_BL',  'Y_BM', 'Y_BR']]"
   ]
  },
  {
   "cell_type": "code",
   "execution_count": 5,
   "metadata": {},
   "outputs": [],
   "source": [
    "from sklearn.model_selection import train_test_split\n",
    "from sklearn.metrics import accuracy_score\n",
    "from sklearn.tree import DecisionTreeClassifier"
   ]
  },
  {
   "cell_type": "code",
   "execution_count": 6,
   "metadata": {},
   "outputs": [
    {
     "data": {
      "text/plain": [
       "DecisionTreeClassifier(class_weight=None, criterion='gini', max_depth=None,\n",
       "            max_features=None, max_leaf_nodes=None,\n",
       "            min_impurity_decrease=0.0, min_impurity_split=None,\n",
       "            min_samples_leaf=1, min_samples_split=2,\n",
       "            min_weight_fraction_leaf=0.0, presort=False, random_state=13,\n",
       "            splitter='best')"
      ]
     },
     "execution_count": 6,
     "metadata": {},
     "output_type": "execute_result"
    }
   ],
   "source": [
    "X_train, x_test, Y_train, y_test = train_test_split(X, y, test_size=0.01)\n",
    "model_dtc = DecisionTreeClassifier(random_state=13)\n",
    "model_dtc.fit(X_train, Y_train)"
   ]
  },
  {
   "cell_type": "code",
   "execution_count": 7,
   "metadata": {},
   "outputs": [
    {
     "name": "stdout",
     "output_type": "stream",
     "text": [
      "Accuracy =  0.9090909090909091\n"
     ]
    }
   ],
   "source": [
    "y_pred = model_dtc.predict(x_test)\n",
    "ans = accuracy_score(y_test, y_pred)\n",
    "print(\"Accuracy = \", ans)"
   ]
  },
  {
   "cell_type": "code",
   "execution_count": 8,
   "metadata": {},
   "outputs": [
    {
     "data": {
      "text/html": [
       "<div>\n",
       "<style scoped>\n",
       "    .dataframe tbody tr th:only-of-type {\n",
       "        vertical-align: middle;\n",
       "    }\n",
       "\n",
       "    .dataframe tbody tr th {\n",
       "        vertical-align: top;\n",
       "    }\n",
       "\n",
       "    .dataframe thead th {\n",
       "        text-align: right;\n",
       "    }\n",
       "</style>\n",
       "<table border=\"1\" class=\"dataframe\">\n",
       "  <thead>\n",
       "    <tr style=\"text-align: right;\">\n",
       "      <th></th>\n",
       "      <th>X_TL</th>\n",
       "      <th>X_TM</th>\n",
       "      <th>X_TR</th>\n",
       "      <th>X_ML</th>\n",
       "      <th>X_MM</th>\n",
       "      <th>X_MR</th>\n",
       "      <th>X_BL</th>\n",
       "      <th>X_BM</th>\n",
       "      <th>X_BR</th>\n",
       "    </tr>\n",
       "  </thead>\n",
       "  <tbody>\n",
       "    <tr>\n",
       "      <th>240</th>\n",
       "      <td>-1</td>\n",
       "      <td>1</td>\n",
       "      <td>0</td>\n",
       "      <td>-1</td>\n",
       "      <td>0</td>\n",
       "      <td>1</td>\n",
       "      <td>0</td>\n",
       "      <td>-1</td>\n",
       "      <td>1</td>\n",
       "    </tr>\n",
       "  </tbody>\n",
       "</table>\n",
       "</div>"
      ],
      "text/plain": [
       "     X_TL  X_TM  X_TR  X_ML  X_MM  X_MR  X_BL  X_BM  X_BR\n",
       "240    -1     1     0    -1     0     1     0    -1     1"
      ]
     },
     "execution_count": 8,
     "metadata": {},
     "output_type": "execute_result"
    }
   ],
   "source": [
    "x_test.head(1)"
   ]
  },
  {
   "cell_type": "markdown",
   "metadata": {},
   "source": [
    "# Project implementation"
   ]
  },
  {
   "cell_type": "code",
   "execution_count": 9,
   "metadata": {},
   "outputs": [],
   "source": [
    "#check rows\n",
    "#return 10 if player 1 got trio in rows and -10 if player 2 get sames\n",
    "def check_rows(a):\n",
    "    for rows in a:\n",
    "        cnt_p1 = 0\n",
    "        cnt_p2 = 0\n",
    "        for i in rows:\n",
    "            if i == 1:\n",
    "                cnt_p1+=1\n",
    "            elif i == -1:\n",
    "                cnt_p2+=1\n",
    "        if cnt_p1 == 3: return 10\n",
    "        elif cnt_p2 == 3: return -10\n",
    "    return 0"
   ]
  },
  {
   "cell_type": "code",
   "execution_count": 10,
   "metadata": {},
   "outputs": [],
   "source": [
    "#check cols\n",
    "#return 20 if P1 won else return -20 if P2 won\n",
    "def check_cols(a):\n",
    "    for j in range(0, 3):\n",
    "        cnt_p1 = 0\n",
    "        cnt_p2 = 0\n",
    "        for i in range(0, 3):\n",
    "            if a[i][j] == 1: cnt_p1 += 1\n",
    "            elif a[i][j] == -1: cnt_p2 += 1\n",
    "            if cnt_p1 == 3: return 20\n",
    "            elif cnt_p2 == 3:\n",
    "                return -20\n",
    "    return 0"
   ]
  },
  {
   "cell_type": "code",
   "execution_count": 11,
   "metadata": {},
   "outputs": [],
   "source": [
    "#check diagonals if P1 win return 30 else if P2 won return -30\n",
    "def check_diagonals(a):\n",
    "    if a[0][0] == a[1][1] == a[2][2] == 1: return 30\n",
    "    elif a[0][2] == a[1][1] == a[2][0] == 1: return 30\n",
    "    elif a[0][0] == a[1][1] == a[2][2] == -1: return -30\n",
    "    elif a[0][2] == a[1][1] == a[2][0] == -1: return -30\n",
    "    else: return 0\n",
    "    "
   ]
  },
  {
   "cell_type": "code",
   "execution_count": 12,
   "metadata": {},
   "outputs": [],
   "source": [
    "def show_table(a):\n",
    "    j = 0\n",
    "    for i in a:\n",
    "        print(i, '  ',end = '')\n",
    "        j+=1\n",
    "        if j == 3 : \n",
    "            print(\"\")\n",
    "            j = 0"
   ]
  },
  {
   "cell_type": "code",
   "execution_count": 13,
   "metadata": {},
   "outputs": [],
   "source": [
    "#Converting 1-D arrya to 2-D array\n",
    "#checking the trios for that array\n",
    "def d1_d2(arr):\n",
    "    trio_checker = 0\n",
    "    d2_arr = []\n",
    "    for i in range(0, 8, 3):\n",
    "        temp = []\n",
    "        for j in range(i, i+3):\n",
    "            temp.append(arr[j])\n",
    "        d2_arr.append(temp)\n",
    "    #here we check for the trio 1st for rows if their is row trio than return it\n",
    "    trio_checker = check_rows(d2_arr)\n",
    "    if trio_checker != 0: return trio_checker\n",
    "    else:\n",
    "        #if not for rows than check for cols\n",
    "        trio_checker = check_cols(d2_arr)\n",
    "        if trio_checker != 0: return trio_checker\n",
    "        else:\n",
    "            #if not even for columns than check for diagonals\n",
    "            trio_checker = check_diagonals(d2_arr)\n",
    "            if trio_checker != 0: return trio_checker\n",
    "            else: return 0"
   ]
  },
  {
   "cell_type": "code",
   "execution_count": 14,
   "metadata": {},
   "outputs": [],
   "source": [
    "import time\n",
    "df_for_append = pd.read_excel(\"multi_label_move_predict.xlsx\", \"Sheet1\", sep=\";\")"
   ]
  },
  {
   "cell_type": "code",
   "execution_count": 15,
   "metadata": {},
   "outputs": [],
   "source": [
    "def append_row(list1, list2):\n",
    "    start = time.time()\n",
    "    main_list = []\n",
    "    global df_for_append\n",
    "    cols_for_append = df_for_append.columns\n",
    "    for i in range(0, 9):\n",
    "        main_list.append(list1[i])\n",
    "    for i in range(0, 9):\n",
    "        main_list.append(list2[0][i])\n",
    "    df2 = pd.DataFrame([main_list], columns=list(cols_for_append))\n",
    "    df_for_append = df_for_append.append(df2)\n",
    "    df_for_append.to_excel(\"multi_label_move_predict.xlsx\", \"Sheet1\", index=False)\n",
    "    elapsed_time = time.time() - start\n",
    "    tot = time.strftime(\"%H:%M:%S\", time.gmtime(elapsed_time))\n",
    "    print(\"\\nTime = \", tot)"
   ]
  },
  {
   "cell_type": "code",
   "execution_count": 16,
   "metadata": {},
   "outputs": [],
   "source": [
    "#for all possibile index wher 1 comes in solution set\n",
    "#stores the indexes in index_list check for the perfect_index to find the solution\n",
    "#perfect index is one where the AI wins if no perfect index than returns 0th value\n",
    "def keep_perfect_zero(predict_list, table):\n",
    "    index_list = []\n",
    "    for one in range(0, 9):\n",
    "        if predict_list[0][one] == 1:\n",
    "            index_list.append(one)\n",
    "    perfect_index = int(0)\n",
    "    for value in index_list:\n",
    "        table[value] = -1\n",
    "        perfect_index = d1_d2(table)\n",
    "        if perfect_index < 0: return value\n",
    "        else: table[value] = 0\n",
    "    return index_list[0]"
   ]
  },
  {
   "cell_type": "code",
   "execution_count": 17,
   "metadata": {},
   "outputs": [],
   "source": [
    "def check_box(table, index):\n",
    "    if index > 8: return 1\n",
    "    if table[index] != 0: return 1\n",
    "    else: return 0"
   ]
  },
  {
   "cell_type": "code",
   "execution_count": 18,
   "metadata": {},
   "outputs": [],
   "source": [
    "table_temp = [i for i in range(0, 9)]"
   ]
  },
  {
   "cell_type": "code",
   "execution_count": 19,
   "metadata": {},
   "outputs": [
    {
     "name": "stdout",
     "output_type": "stream",
     "text": [
      "0   1   2   \n",
      "3   4   5   \n",
      "6   7   8   \n",
      "\n",
      "\n",
      "X   O   X   \n",
      "O   O   O   \n",
      "X   X   O   \n",
      "\n",
      "AI won\n",
      "\n",
      "Final Result\n",
      "X   O   X   \n",
      "O   O   O   \n",
      "X   X   O   \n"
     ]
    }
   ],
   "source": [
    "x_list = [0 for i in range(0, 9)]\n",
    "y_list = [0 for i in range(0, 9)]\n",
    "table = [0 for i in range(0, 9)]\n",
    "ox_table = ['-' for i in range(0, 9)]\n",
    "ans = 0\n",
    "print(\"Enter the value shown in box to keep 'X' \")\n",
    "show_table(table_temp)\n",
    "for i in range(0, 9):\n",
    "    x_index = int(input(\"Enter box-value:- \"))\n",
    "    if x_index == 10: break\n",
    "    while check_box(table, x_index):\n",
    "        print(\"Entered box already has a value\\nEnter other Box Number\")\n",
    "        x_index = int(input(\"Enter the box-value\"))\n",
    "    table[x_index] = 1\n",
    "    x_list = table\n",
    "    ox_table[x_index] = 'X'\n",
    "    ans = d1_d2(table)\n",
    "    if ans > 0:\n",
    "        print(\"\\nPlayer 1 won\")\n",
    "        break\n",
    "    ans_list = model_dtc.predict([table])\n",
    "    #if i >= 2: #append_row(x_list, ans_list)\n",
    "    y_index = keep_perfect_zero(ans_list, table)\n",
    "    table[y_index] = -1\n",
    "    ox_table[y_index] = 'O'\n",
    "    ans = d1_d2(table)\n",
    "    clear()\n",
    "    show_table(table_temp)\n",
    "    print(\"\\n\")\n",
    "    show_table(ox_table)\n",
    "    if ans < 0:\n",
    "        print(\"\\nAI won\")\n",
    "        break\n",
    "    zero_indicate = 0\n",
    "    for box in table:\n",
    "        if box == 0:\n",
    "            zero_indicate = 1\n",
    "            break\n",
    "    if zero_indicate == 0: break\n",
    "print(\"\\nFinal Result\")\n",
    "if ans == 0: print(\"It's a draw\")\n",
    "show_table(ox_table)"
   ]
  },
  {
   "cell_type": "code",
   "execution_count": null,
   "metadata": {},
   "outputs": [],
   "source": []
  }
 ],
 "metadata": {
  "kernelspec": {
   "display_name": "Python 3",
   "language": "python",
   "name": "python3"
  },
  "language_info": {
   "codemirror_mode": {
    "name": "ipython",
    "version": 3
   },
   "file_extension": ".py",
   "mimetype": "text/x-python",
   "name": "python",
   "nbconvert_exporter": "python",
   "pygments_lexer": "ipython3",
   "version": "3.6.5"
  }
 },
 "nbformat": 4,
 "nbformat_minor": 2
}
